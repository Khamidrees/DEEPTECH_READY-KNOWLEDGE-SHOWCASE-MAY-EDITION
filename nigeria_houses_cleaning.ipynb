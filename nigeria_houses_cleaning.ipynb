{
  "cells": [
    {
      "cell_type": "markdown",
      "metadata": {
        "id": "view-in-github",
        "colab_type": "text"
      },
      "source": [
        "<a href=\"https://colab.research.google.com/github/Khamidrees/DEEPTECH_READY-KNOWLEDGE-SHOWCASE-MAY-EDITION/blob/main/nigeria_houses_cleaning.ipynb\" target=\"_parent\"><img src=\"https://colab.research.google.com/assets/colab-badge.svg\" alt=\"Open In Colab\"/></a>"
      ]
    },
    {
      "cell_type": "markdown",
      "id": "cdf11f90",
      "metadata": {
        "id": "cdf11f90"
      },
      "source": [
        "# 🧹 Nigeria Houses Data Cleaning Notebook\n",
        "This notebook helps clean and prepare the Nigeria housing dataset for machine learning."
      ]
    },
    {
      "cell_type": "code",
      "execution_count": null,
      "id": "a0bcfd9e",
      "metadata": {
        "id": "a0bcfd9e"
      },
      "outputs": [],
      "source": [
        "import pandas as pd\n",
        "import numpy as np\n",
        "from sklearn.preprocessing import LabelEncoder, StandardScaler\n",
        "from sklearn.model_selection import train_test_split\n",
        "\n",
        "# Load data\n",
        "file_path = \"/content/nigeria_houses.csv\"\n",
        "df = pd.read_csv(file_path)\n",
        "df.head()\n"
      ]
    },
    {
      "cell_type": "code",
      "execution_count": null,
      "id": "7df54492",
      "metadata": {
        "id": "7df54492"
      },
      "outputs": [],
      "source": [
        "# Check for missing values\n",
        "print(\"Missing values before cleaning:\")\n",
        "print(df.isnull().sum())\n",
        "\n",
        "# Fill missing numerical with median\n",
        "num_cols = ['bedrooms', 'bathrooms', 'toilets', 'parking_space', 'price']\n",
        "for col in num_cols:\n",
        "    df[col] = df[col].fillna(df[col].median())\n",
        "\n",
        "# Fill missing categorical with mode\n",
        "cat_cols = ['title', 'town', 'state']\n",
        "for col in cat_cols:\n",
        "    df[col] = df[col].fillna(df[col].mode()[0])\n",
        "\n",
        "print(\"\\nMissing values after cleaning:\")\n",
        "print(df.isnull().sum())\n"
      ]
    },
    {
      "cell_type": "code",
      "execution_count": null,
      "id": "fbaf4c80",
      "metadata": {
        "id": "fbaf4c80"
      },
      "outputs": [],
      "source": [
        "# Encode categorical variables using Label Encoding\n",
        "le = LabelEncoder()\n",
        "for col in cat_cols:\n",
        "    df[col] = le.fit_transform(df[col])\n",
        "\n",
        "df.head()\n"
      ]
    },
    {
      "cell_type": "code",
      "execution_count": null,
      "id": "4e93c6a0",
      "metadata": {
        "id": "4e93c6a0"
      },
      "outputs": [],
      "source": [
        "# Scale numerical features\n",
        "scaler = StandardScaler()\n",
        "df[num_cols] = scaler.fit_transform(df[num_cols])\n",
        "df.head()\n"
      ]
    },
    {
      "cell_type": "code",
      "execution_count": null,
      "id": "c863fe7b",
      "metadata": {
        "id": "c863fe7b"
      },
      "outputs": [],
      "source": [
        "# Save cleaned data\n",
        "df.to_csv(\"cleaned_nigeria_houses.csv\", index=False)\n",
        "print(\"✅ Cleaned data saved as 'cleaned_nigeria_houses.csv'\")\n"
      ]
    }
  ],
  "metadata": {
    "colab": {
      "provenance": [],
      "include_colab_link": true
    },
    "language_info": {
      "name": "python"
    },
    "kernelspec": {
      "name": "python3",
      "display_name": "Python 3"
    }
  },
  "nbformat": 4,
  "nbformat_minor": 5
}